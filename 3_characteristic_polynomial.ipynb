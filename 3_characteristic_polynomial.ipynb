{
 "cells": [
  {
   "cell_type": "code",
   "execution_count": 3,
   "metadata": {},
   "outputs": [
    {
     "name": "stdout",
     "output_type": "stream",
     "text": [
      "t^32 - 24*t^29 - 42*t^28 + 168*t^26 + 552*t^25 + 171*t^24 - 1264*t^23 - 2688*t^22 - 1584*t^21 + 6564*t^20 + 10944*t^19 - 1872*t^18 - 19824*t^17 - 22617*t^16 + 16992*t^15 + 56672*t^14 - 4536*t^13 - 70938*t^12 - 4416*t^11 + 53736*t^10 + 4680*t^9 - 25011*t^8 - 1776*t^7 + 6624*t^6 + 256*t^5 - 768*t^4\n"
     ]
    }
   ],
   "source": [
    "#Written by Dr. Alex Duncan \n",
    "#Depends on the invariance of the resultant under “change of base” or ring homomorphisms of the coefficient ring.\n",
    "\n",
    "import time\n",
    "import datetime\n",
    "\n",
    "# This is more direct, but probably slower.\n",
    "def uniform_hypergraph_charpoly_naive( n, edges):\n",
    "    d = len(edges[0])\n",
    "    variable_names = \",\".join([f\"x{i}\" for i in range(n)])\n",
    "    fermat = \" + \".join([f\"x{i}^{d}\" for i in range(n)])\n",
    "    edge_mons = []\n",
    "    for e in edges:\n",
    "        edge_mons.append( \"*\".join([f\"x{i}\" for i in e]) )\n",
    "    edge_poly = \" + \".join(edge_mons)\n",
    "    t_poly = f\"t*({fermat}) - {d}*({edge_poly})\"\n",
    "\n",
    "    macaulay2.eval('loadPackage \"Resultants\"')\n",
    "    macaulay2.eval(f'QQ[t][{variable_names}]')\n",
    "    F = macaulay2(t_poly)\n",
    "    disc = F.discriminant()\n",
    "    return disc.sage()\n",
    "\n",
    "# This computes the polynomial by multiple evaluation\n",
    "# followed by Lagrange interpolation\n",
    "# (maybe faster for larger examples?)\n",
    "# It gives an estimated time remaining counter.\n",
    "def uniform_hypergraph_charpoly( n, edges, estimate_time = False):\n",
    "    d = len(edges[0])\n",
    "\n",
    "    variable_names = \",\".join([f\"x{i}\" for i in range(n)])\n",
    "    fermat = \" + \".join([f\"x{i}^{d}\" for i in range(n)])\n",
    "    edge_mons = []\n",
    "    for e in edges:\n",
    "        edge_mons.append( \"*\".join([f\"x{i}\" for i in e]) )\n",
    "    edge_poly = \" + \".join(edge_mons)\n",
    "\n",
    "    macaulay2.eval('loadPackage \"Resultants\"')\n",
    "    macaulay2.eval(f'QQ[{variable_names}]')\n",
    "\n",
    "    total_degree = n*(d-1)^(n-1)\n",
    "    points = []\n",
    "    start_time = time.time()\n",
    "    for t in range(total_degree+1):\n",
    "        t_poly = f\"{t}*({fermat}) -  {d}*({edge_poly})\"\n",
    "        F = macaulay2(t_poly)\n",
    "        disc = F.discriminant()\n",
    "        points.append([t,disc.sage()])\n",
    "        if estimate_time: # totally optional\n",
    "            time_passed = time.time() - start_time\n",
    "            time_remaining = time_passed*(total_degree-t)/(t+1)\n",
    "            print(f\"Time Remaining: {datetime.timedelta(seconds=time_remaining)}\")\n",
    "    R.<t> = PolynomialRing(QQ)\n",
    "    return R.lagrange_polynomial(points)\n",
    "\n",
    "t=var(\"t\")\n",
    "n=4\n",
    "edges = [[0,1,2],[0,1,3],[0,2,3],[1,2,3]]\n",
    "\n",
    "poly = uniform_hypergraph_charpoly(n,edges)\n",
    "f=expand(factor(poly))\n",
    "f = f/f.leading_coefficient()\n",
    "print(f)"
   ]
  }
 ],
 "metadata": {
  "kernelspec": {
   "display_name": "SageMath 9.7",
   "language": "sage",
   "name": "sagemath"
  },
  "language_info": {
   "codemirror_mode": {
    "name": "ipython",
    "version": 3
   },
   "file_extension": ".py",
   "mimetype": "text/x-python",
   "name": "python",
   "nbconvert_exporter": "python",
   "pygments_lexer": "ipython3",
   "version": "3.10.6"
  }
 },
 "nbformat": 4,
 "nbformat_minor": 4
}
