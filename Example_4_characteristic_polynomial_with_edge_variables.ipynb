{
 "cells": [
  {
   "cell_type": "code",
   "execution_count": 18,
   "id": "31790917-b518-4cec-beb6-572280358991",
   "metadata": {},
   "outputs": [
    {
     "name": "stdout",
     "output_type": "stream",
     "text": [
      "characteristic polynomial with edge-variables: \n",
      "------------ \n",
      "t^32 - 6*t^29*y0^3 + 15*t^26*y0^6 - 20*t^23*y0^9 + 15*t^20*y0^12 - 6*t^17*y0^15 + t^14*y0^18 - 6*t^29*y1^3 + 18*t^26*y0^3*y1^3 - 12*t^23*y0^6*y1^3 - 12*t^20*y0^9*y1^3 + 18*t^17*y0^12*y1^3 - 6*t^14*y0^15*y1^3 + 15*t^26*y1^6 - 12*t^23*y0^3*y1^6 - 6*t^20*y0^6*y1^6 - 12*t^17*y0^9*y1^6 + 15*t^14*y0^12*y1^6 - 20*t^23*y1^9 - 12*t^20*y0^3*y1^9 - 12*t^17*y0^6*y1^9 - 20*t^14*y0^9*y1^9 + 15*t^20*y1^12 + 18*t^17*y0^3*y1^12 + 15*t^14*y0^6*y1^12 - 6*t^17*y1^15 - 6*t^14*y0^3*y1^15 + t^14*y1^18\n",
      "------------ \n",
      "factorized form: \n",
      "(x^6*y0^6 - 2*x^6*y0^3*y1^3 + x^6*y1^6 - 2*x^3*y0^3 - 2*x^3*y1^3 + 1)^3\n"
     ]
    }
   ],
   "source": [
    "#input: the edge set as a list of lists of length k\n",
    "#output: the characteristic polynomial with edge-variables of the hypergraph H with the given edge-set\n",
    "def uniform_hypergraph_charpoly_weighted(n, edges):\n",
    "    k = len(edges[0])\n",
    "    number_of_edges = len(edges)\n",
    "    variable_names = \",\".join([f\"x{i}\" for i in range(n)])\n",
    "    edge_names = \",\".join([f\"y{i}\" for i in range(number_of_edges)])\n",
    "    fermat = \" + \".join([f\"x{i}^{k}\" for i in range(n)])\n",
    "    edge_mons = []\n",
    "    for i in range(number_of_edges):\n",
    "        edg = edges[i]\n",
    "        edge_mons.append( f\"y{i}*\" + \"*\".join([f\"x{j}\" for j in edg]) )\n",
    "    edge_poly = \" + \".join(edge_mons)\n",
    "    t_poly = f\"t*({fermat}) - {k}*({edge_poly})\"\n",
    "    # print(t_poly)\n",
    "    \n",
    "    macaulay2.eval('loadPackage \"Resultants\"')\n",
    "    macaulay2.eval(f'QQ[t,{edge_names}][{variable_names}]')\n",
    "    F = macaulay2(t_poly)\n",
    "    disc = F.discriminant()\n",
    "    f = disc.sage()\n",
    "    # print(f)\n",
    "    return expand(f / f.coefficients()[0])\n",
    "\n",
    "n=4\n",
    "edges = [[0,1,2],[1,2,3]]\n",
    "\n",
    "f = uniform_hypergraph_charpoly_weighted(n,edges)\n",
    "N=f.degree()\n",
    "print(\"characteristic polynomial with edge-variables: \\n------------ \")\n",
    "print(f)\n",
    "\n",
    "print(\"------------ \\nfactorized form: \")\n",
    "t = var(\"t\")\n",
    "print(factor(expand(t^(-N) * f).subs(t == 1/x)))"
   ]
  }
 ],
 "metadata": {
  "kernelspec": {
   "display_name": "SageMath 9.7",
   "language": "sage",
   "name": "sagemath"
  },
  "language_info": {
   "codemirror_mode": {
    "name": "ipython",
    "version": 3
   },
   "file_extension": ".py",
   "mimetype": "text/x-python",
   "name": "python",
   "nbconvert_exporter": "python",
   "pygments_lexer": "ipython3",
   "version": "3.10.6"
  }
 },
 "nbformat": 4,
 "nbformat_minor": 5
}
