{
 "cells": [
  {
   "cell_type": "code",
   "execution_count": 5,
   "id": "edd7cb2f-e391-40d1-8fdb-906b4df6cb02",
   "metadata": {},
   "outputs": [],
   "source": [
    "#input: the list of edges\n",
    "#output: incidence matrix of the hypergraph\n",
    "def edges_to_matrix(E):\n",
    "    H = IncidenceStructure(E)\n",
    "    M = H.incidence_matrix()\n",
    "    return M\n",
    "\n",
    "#input: the list of edges of a Veblen hypergraph V\n",
    "#output: the flattening of V\n",
    "def flat(V):\n",
    "    L=[]\n",
    "    for element in V:\n",
    "        L.append(tuple(element))\n",
    "    W=Set(L)\n",
    "    return sorted(tuple(W))\n",
    "\n",
    "#in: uniformity k, number of edges d, number of vertices n\n",
    "#out: the list of Veblen hypergraphs with uniformity k on d edges and n vertices\n",
    "def Veblen(k,d,n):\n",
    "    lst=[]\n",
    "    for element in list(hypergraphs.nauty(d, n, uniform=k, multiple_sets=True)):\n",
    "        M=edges_to_matrix(element)\n",
    "        vmod = [x%k for x in M*vector([1]*M.ncols())]\n",
    "        v = [x for x in M*vector([1]*M.ncols())]\n",
    "        if sum(vmod) == 0 and (0 not in v):\n",
    "            lst.append(tuple(sorted(element)))\n",
    "    return(lst)\n",
    "       "
   ]
  },
  {
   "cell_type": "code",
   "execution_count": 6,
   "id": "ac7bbe29-47ac-4ddf-84ef-ed696a81b90d",
   "metadata": {},
   "outputs": [
    {
     "name": "stdout",
     "output_type": "stream",
     "text": [
      "((0, 1, 2), (0, 1, 4), (0, 3, 4), (1, 2, 3), (2, 3, 4))\n",
      "((0, 1, 2), (0, 3, 4), (0, 3, 4), (1, 2, 3), (1, 2, 4))\n",
      "[(0, 1, 2), (0, 1, 4), (0, 3, 4), (1, 2, 3), (2, 3, 4)]\n",
      "[(0, 1, 2), (0, 3, 4), (1, 2, 3), (1, 2, 4)]\n"
     ]
    }
   ],
   "source": [
    "\n",
    "print(*Veblen(3,5,5),sep=\"\\n\")\n",
    "\n",
    "for V in Veblen(3,5,5):\n",
    "    print(flat(V))\n"
   ]
  }
 ],
 "metadata": {
  "kernelspec": {
   "display_name": "SageMath 9.7",
   "language": "sage",
   "name": "sagemath"
  },
  "language_info": {
   "codemirror_mode": {
    "name": "ipython",
    "version": 3
   },
   "file_extension": ".py",
   "mimetype": "text/x-python",
   "name": "python",
   "nbconvert_exporter": "python",
   "pygments_lexer": "ipython3",
   "version": "3.10.6"
  }
 },
 "nbformat": 4,
 "nbformat_minor": 5
}
