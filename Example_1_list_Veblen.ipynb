{
 "cells": [
  {
   "cell_type": "code",
   "execution_count": 6,
   "id": "edd7cb2f-e391-40d1-8fdb-906b4df6cb02",
   "metadata": {},
   "outputs": [
    {
     "name": "stdout",
     "output_type": "stream",
     "text": [
      "((0, 1, 2), (0, 1, 2), (0, 1, 2), (0, 1, 2), (0, 1, 2), (0, 1, 2))\n",
      "((0, 1, 2), (0, 1, 2), (0, 1, 2), (0, 1, 3), (0, 1, 3), (0, 1, 3))\n",
      "((0, 1, 2), (0, 1, 2), (0, 1, 2), (0, 3, 4), (0, 3, 4), (0, 3, 4))\n",
      "((0, 1, 2), (0, 1, 2), (0, 1, 3), (0, 2, 4), (0, 3, 4), (0, 3, 4))\n",
      "((0, 1, 2), (0, 1, 3), (0, 1, 4), (0, 2, 3), (0, 2, 4), (0, 3, 4))\n"
     ]
    }
   ],
   "source": [
    "#input: the list of edges\n",
    "#output: incidence matrix of the hypergraph\n",
    "def edges_to_matrix(E):\n",
    "    H = IncidenceStructure(E)\n",
    "    M = H.incidence_matrix()\n",
    "    return M\n",
    "\n",
    "#input: the list of edges of a Veblen hypergraph V\n",
    "#output: the flattening of V\n",
    "def flat(V):\n",
    "    L=[]\n",
    "    for element in V:\n",
    "        L.append(tuple(element))\n",
    "    W=Set(L)\n",
    "    return sorted(tuple(W))\n",
    "\n",
    "#in: uniformity k, number of edges d, number of vertices n\n",
    "#out: the list of Veblen hypergraphs with uniformity k on d edges and \\leq n vertices\n",
    "def Veblen(k,d,n):\n",
    "    lst=[]\n",
    "    for element in list(hypergraphs.nauty(d, n, uniform=k, multiple_sets=True)):\n",
    "        M=edges_to_matrix(element)\n",
    "        vmod = [x%k for x in M*vector([1]*M.ncols())]\n",
    "        v = [x for x in M*vector([1]*M.ncols())]\n",
    "        if sum(vmod) == 0 and (0 not in v):\n",
    "            lst.append(tuple(sorted(element)))\n",
    "    return(lst)\n",
    "\n",
    "print(*Veblen(3,6,5),sep=\"\\n\")"
   ]
  }
 ],
 "metadata": {
  "kernelspec": {
   "display_name": "SageMath 9.7",
   "language": "sage",
   "name": "sagemath"
  },
  "language_info": {
   "codemirror_mode": {
    "name": "ipython",
    "version": 3
   },
   "file_extension": ".py",
   "mimetype": "text/x-python",
   "name": "python",
   "nbconvert_exporter": "python",
   "pygments_lexer": "ipython3",
   "version": "3.10.6"
  }
 },
 "nbformat": 4,
 "nbformat_minor": 5
}
